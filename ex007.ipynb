{
 "cells": [
  {
   "cell_type": "code",
   "execution_count": 6,
   "id": "8f44fb9d-8ce4-4e2e-bd0b-ed6909b3cef0",
   "metadata": {},
   "outputs": [
    {
     "name": "stdin",
     "output_type": "stream",
     "text": [
      "Digite a Nota 1 5.5\n",
      "Digite a Nota 2 2\n"
     ]
    },
    {
     "name": "stdout",
     "output_type": "stream",
     "text": [
      "A media do Aluno é 3.75\n"
     ]
    }
   ],
   "source": [
    "n1 = float ( input ('Digite a Nota 1'))\n",
    "n2 = float ( input ('Digite a Nota 2'))\n",
    "s = (n1+n2)/2\n",
    "print('A media do Aluno é {:.2f}'.format(s))"
   ]
  },
  {
   "cell_type": "code",
   "execution_count": null,
   "id": "8966584a-b481-421c-873f-f7043b334ebb",
   "metadata": {},
   "outputs": [],
   "source": []
  }
 ],
 "metadata": {
  "kernelspec": {
   "display_name": "Python 3 (ipykernel)",
   "language": "python",
   "name": "python3"
  },
  "language_info": {
   "codemirror_mode": {
    "name": "ipython",
    "version": 3
   },
   "file_extension": ".py",
   "mimetype": "text/x-python",
   "name": "python",
   "nbconvert_exporter": "python",
   "pygments_lexer": "ipython3",
   "version": "3.9.13"
  }
 },
 "nbformat": 4,
 "nbformat_minor": 5
}
