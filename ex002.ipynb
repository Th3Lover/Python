{
 "cells": [
  {
   "cell_type": "code",
   "execution_count": 3,
   "id": "60aff0dc-6e67-4185-b77a-5a6b6e5de944",
   "metadata": {},
   "outputs": [
    {
     "name": "stdin",
     "output_type": "stream",
     "text": [
      "Digite seu Nome: Leonardo\n"
     ]
    },
    {
     "name": "stdout",
     "output_type": "stream",
     "text": [
      "Leonardo\n",
      "Olá Leonardo\n",
      "Olá Leonardo ,oque nós podemos fazer para você hoje ?\n",
      "Olá Leonardo, oque podemos fazer para você hoje ?\n"
     ]
    }
   ],
   "source": [
    "nome = input('Digite seu Nome:')\n",
    "print(nome)\n",
    "print('Olá', nome)\n",
    "print('Olá', nome,',oque nós podemos fazer para você hoje ?')\n",
    "print('Olá {}, oque podemos fazer para você hoje ?'.format(nome))"
   ]
  },
  {
   "cell_type": "code",
   "execution_count": null,
   "id": "26e308db-b7ba-4baa-a109-bb0a12b089ce",
   "metadata": {},
   "outputs": [],
   "source": []
  }
 ],
 "metadata": {
  "kernelspec": {
   "display_name": "Python 3 (ipykernel)",
   "language": "python",
   "name": "python3"
  },
  "language_info": {
   "codemirror_mode": {
    "name": "ipython",
    "version": 3
   },
   "file_extension": ".py",
   "mimetype": "text/x-python",
   "name": "python",
   "nbconvert_exporter": "python",
   "pygments_lexer": "ipython3",
   "version": "3.9.13"
  }
 },
 "nbformat": 4,
 "nbformat_minor": 5
}
