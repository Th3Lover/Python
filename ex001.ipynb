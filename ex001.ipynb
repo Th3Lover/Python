{
 "cells": [
  {
   "cell_type": "code",
   "execution_count": 1,
   "id": "c12b8dbc-6b72-4569-8278-498057c8517f",
   "metadata": {},
   "outputs": [
    {
     "name": "stdout",
     "output_type": "stream",
     "text": [
      "Olá, Mundo!\n"
     ]
    }
   ],
   "source": [
    "print('Olá, Mundo!')"
   ]
  },
  {
   "cell_type": "code",
   "execution_count": null,
   "id": "226f9149-70aa-4d65-8940-7cefb6ac00b8",
   "metadata": {},
   "outputs": [],
   "source": []
  }
 ],
 "metadata": {
  "kernelspec": {
   "display_name": "Python 3 (ipykernel)",
   "language": "python",
   "name": "python3"
  },
  "language_info": {
   "codemirror_mode": {
    "name": "ipython",
    "version": 3
   },
   "file_extension": ".py",
   "mimetype": "text/x-python",
   "name": "python",
   "nbconvert_exporter": "python",
   "pygments_lexer": "ipython3",
   "version": "3.9.13"
  }
 },
 "nbformat": 4,
 "nbformat_minor": 5
}
