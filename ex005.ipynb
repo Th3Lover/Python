{
 "cells": [
  {
   "cell_type": "code",
   "execution_count": 4,
   "id": "06c2dfd8-fb88-4a5d-a2ca-4b9041336f51",
   "metadata": {},
   "outputs": [
    {
     "name": "stdin",
     "output_type": "stream",
     "text": [
      "Digite um Numero 3\n"
     ]
    },
    {
     "name": "stdout",
     "output_type": "stream",
     "text": [
      "O antecessor do numero digitado é 2, e o sucessor será 4\n"
     ]
    }
   ],
   "source": [
    "x = int ( input ('Digite um Numero'))\n",
    "a = x + 1\n",
    "s = x - 1 \n",
    "print ('O antecessor do numero digitado é {}, e o sucessor será {}'.format(s, a)) "
   ]
  },
  {
   "cell_type": "code",
   "execution_count": null,
   "id": "faf4c305-ea2d-4006-b36c-d5e9f2d51245",
   "metadata": {},
   "outputs": [],
   "source": []
  }
 ],
 "metadata": {
  "kernelspec": {
   "display_name": "Python 3 (ipykernel)",
   "language": "python",
   "name": "python3"
  },
  "language_info": {
   "codemirror_mode": {
    "name": "ipython",
    "version": 3
   },
   "file_extension": ".py",
   "mimetype": "text/x-python",
   "name": "python",
   "nbconvert_exporter": "python",
   "pygments_lexer": "ipython3",
   "version": "3.9.13"
  }
 },
 "nbformat": 4,
 "nbformat_minor": 5
}
