{
 "cells": [
  {
   "cell_type": "code",
   "execution_count": 2,
   "id": "031decad-0931-4fd0-a080-ab1b03e817d3",
   "metadata": {},
   "outputs": [
    {
     "name": "stdin",
     "output_type": "stream",
     "text": [
      "Digite o Valor na Carteira 125.32\n"
     ]
    },
    {
     "name": "stdout",
     "output_type": "stream",
     "text": [
      "A quantidade de dolares que você pode comprar é 38.32\n"
     ]
    }
   ],
   "source": [
    "n = float ( input ('Digite o Valor na Carteira'))\n",
    "d = n / 3.27\n",
    "print ('A quantidade de dolares que você pode comprar é {:.2f}'.format(d))"
   ]
  },
  {
   "cell_type": "code",
   "execution_count": null,
   "id": "58e21507-ffc2-4ee2-ada2-47e9c2256f5b",
   "metadata": {},
   "outputs": [],
   "source": []
  }
 ],
 "metadata": {
  "kernelspec": {
   "display_name": "Python 3 (ipykernel)",
   "language": "python",
   "name": "python3"
  },
  "language_info": {
   "codemirror_mode": {
    "name": "ipython",
    "version": 3
   },
   "file_extension": ".py",
   "mimetype": "text/x-python",
   "name": "python",
   "nbconvert_exporter": "python",
   "pygments_lexer": "ipython3",
   "version": "3.9.13"
  }
 },
 "nbformat": 4,
 "nbformat_minor": 5
}
