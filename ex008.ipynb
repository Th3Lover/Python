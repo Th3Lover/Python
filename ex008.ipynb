{
 "cells": [
  {
   "cell_type": "code",
   "execution_count": 1,
   "id": "9604bdcb-a670-4e82-a7b1-798b0256d38c",
   "metadata": {},
   "outputs": [
    {
     "name": "stdin",
     "output_type": "stream",
     "text": [
      "Digite a quantidade de metro: 3\n"
     ]
    },
    {
     "name": "stdout",
     "output_type": "stream",
     "text": [
      "A distancia informada em Centimetros é 300.0 e em milímetros é 3000.0\n"
     ]
    }
   ],
   "source": [
    "m = float ( input ('Digite a quantidade de metro:'))\n",
    "c = m * 100\n",
    "mi = m * 1000\n",
    "print ('A distancia informada em Centimetros é {} e em milímetros é {}'.format(c, mi))"
   ]
  },
  {
   "cell_type": "code",
   "execution_count": null,
   "id": "e6bb77bf-0286-4592-848a-e262a056339d",
   "metadata": {},
   "outputs": [],
   "source": []
  }
 ],
 "metadata": {
  "kernelspec": {
   "display_name": "Python 3 (ipykernel)",
   "language": "python",
   "name": "python3"
  },
  "language_info": {
   "codemirror_mode": {
    "name": "ipython",
    "version": 3
   },
   "file_extension": ".py",
   "mimetype": "text/x-python",
   "name": "python",
   "nbconvert_exporter": "python",
   "pygments_lexer": "ipython3",
   "version": "3.9.13"
  }
 },
 "nbformat": 4,
 "nbformat_minor": 5
}
