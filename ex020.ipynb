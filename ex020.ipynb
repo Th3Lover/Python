{
 "cells": [
  {
   "cell_type": "code",
   "execution_count": 2,
   "metadata": {},
   "outputs": [
    {
     "name": "stdout",
     "output_type": "stream",
     "text": [
      "A ordem de apresentação do trabalho sera: ['Ana', 'Pedro', 'José', 'Paula']\n"
     ]
    }
   ],
   "source": [
    "import random\n",
    "\n",
    "n1 = input('Nome do primeiro aluno:')\n",
    "n2 = input('Nome do segundo aluno:')\n",
    "n3 = input('Nome do terceiro aluno:')\n",
    "n4 = input('Nome do quarto aluno:')\n",
    "\n",
    "x = [n1, n2, n3, n4]\n",
    "\n",
    "y = random.shuffle(x)\n",
    "\n",
    "print('A ordem de apresentação do trabalho sera: {}'.format(x))\n"
   ]
  }
 ],
 "metadata": {
  "kernelspec": {
   "display_name": "base",
   "language": "python",
   "name": "python3"
  },
  "language_info": {
   "codemirror_mode": {
    "name": "ipython",
    "version": 3
   },
   "file_extension": ".py",
   "mimetype": "text/x-python",
   "name": "python",
   "nbconvert_exporter": "python",
   "pygments_lexer": "ipython3",
   "version": "3.9.13"
  },
  "orig_nbformat": 4
 },
 "nbformat": 4,
 "nbformat_minor": 2
}
