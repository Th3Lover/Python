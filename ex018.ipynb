{
 "cells": [
  {
   "cell_type": "code",
   "execution_count": 6,
   "metadata": {},
   "outputs": [
    {
     "name": "stdout",
     "output_type": "stream",
     "text": [
      "Os valor dos angulos são: cosseno: 0.87, seno: 0.50 e tangente: 0.58\n"
     ]
    }
   ],
   "source": [
    "import math\n",
    "\n",
    "x = float( input('Digite um angulo: '))\n",
    "\n",
    "y = math.cos(math.radians(x))\n",
    "z = math.sin(math.radians(x))\n",
    "a = math.tan(math.radians(x))\n",
    "\n",
    "print('Os valor dos angulos são: cosseno: {:.2f}, seno: {:.2f} e tangente: {:.2f}'.format(y,z,a))"
   ]
  }
 ],
 "metadata": {
  "kernelspec": {
   "display_name": "base",
   "language": "python",
   "name": "python3"
  },
  "language_info": {
   "codemirror_mode": {
    "name": "ipython",
    "version": 3
   },
   "file_extension": ".py",
   "mimetype": "text/x-python",
   "name": "python",
   "nbconvert_exporter": "python",
   "pygments_lexer": "ipython3",
   "version": "3.9.13"
  },
  "orig_nbformat": 4
 },
 "nbformat": 4,
 "nbformat_minor": 2
}
