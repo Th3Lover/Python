{
 "cells": [
  {
   "cell_type": "code",
   "execution_count": 1,
   "id": "375f7524-d520-43da-8c6a-075e9deb5ee1",
   "metadata": {},
   "outputs": [
    {
     "name": "stdout",
     "output_type": "stream",
     "text": [
      "A area da sua parede em metros é 25.0\n",
      "Para pintar a parede vc vai usar 12.5 litros de tinta\n"
     ]
    }
   ],
   "source": [
    "x = float( input (\"qual o tamanho da largura da sua parede em metros\"))\n",
    "z = float( input (\"qual o tamanho da altura da sua parede em metros\"))\n",
    "a = x*z\n",
    "print (\"A area da sua parede em metros é {}\".format(a))\n",
    "t = a/2\n",
    "print(\"Para pintar a parede vc vai usar {} litros de tinta\".format(t))"
   ]
  },
  {
   "cell_type": "code",
   "execution_count": null,
   "id": "508dd374-ff2e-4f9e-8495-37755ec61946",
   "metadata": {},
   "outputs": [],
   "source": []
  }
 ],
 "metadata": {
  "kernelspec": {
   "display_name": "Python 3 (ipykernel)",
   "language": "python",
   "name": "python3"
  },
  "language_info": {
   "codemirror_mode": {
    "name": "ipython",
    "version": 3
   },
   "file_extension": ".py",
   "mimetype": "text/x-python",
   "name": "python",
   "nbconvert_exporter": "python",
   "pygments_lexer": "ipython3",
   "version": "3.9.13"
  }
 },
 "nbformat": 4,
 "nbformat_minor": 5
}
