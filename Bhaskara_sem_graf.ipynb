{
 "cells": [
  {
   "cell_type": "code",
   "execution_count": 1,
   "id": "c721fa56-409d-4085-a207-094f865673f0",
   "metadata": {},
   "outputs": [
    {
     "name": "stdout",
     "output_type": "stream",
     "text": [
      "O delta é 316.0\n",
      "O resultando da conta de Bhaskara é 1.1776388834631177, -2.377638883463118\n"
     ]
    }
   ],
   "source": [
    "y = float ( input ('Digite o valor de A'))\n",
    "x = float ( input ('Digite o valor de B'))\n",
    "z = float ( input ('Digite o valor de C'))\n",
    "\n",
    "d = x**2-4*y*z\n",
    "\n",
    "print ('O delta é {}'.format(d))\n",
    "\n",
    "b = (-x + (d**(1/2)))/(2*y)\n",
    "\n",
    "bb = (-x - (d**(1/2)))/(2*y)\n",
    "\n",
    "print ('O resultando da conta de Bhaskara é {}, {}'.format(b, bb))"
   ]
  },
  {
   "cell_type": "code",
   "execution_count": null,
   "id": "75c1267e-6a9c-46e6-8336-b6e7359722fe",
   "metadata": {},
   "outputs": [],
   "source": []
  }
 ],
 "metadata": {
  "kernelspec": {
   "display_name": "Python 3 (ipykernel)",
   "language": "python",
   "name": "python3"
  },
  "language_info": {
   "codemirror_mode": {
    "name": "ipython",
    "version": 3
   },
   "file_extension": ".py",
   "mimetype": "text/x-python",
   "name": "python",
   "nbconvert_exporter": "python",
   "pygments_lexer": "ipython3",
   "version": "3.9.13"
  }
 },
 "nbformat": 4,
 "nbformat_minor": 5
}
