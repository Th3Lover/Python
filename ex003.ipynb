{
 "cells": [
  {
   "cell_type": "code",
   "execution_count": 17,
   "id": "96a4eb9c-9832-41ee-94e2-55082f969745",
   "metadata": {},
   "outputs": [
    {
     "name": "stdin",
     "output_type": "stream",
     "text": [
      "Digite Um Numero 123\n",
      "Digite Outro Numero 123\n"
     ]
    },
    {
     "name": "stdout",
     "output_type": "stream",
     "text": [
      "A soma entre 123 mais 123 vale: 246\n"
     ]
    }
   ],
   "source": [
    "cal = int ( input ('Digite Um Numero'))\n",
    "calc = int ( input ('Digite Outro Numero'))\n",
    "soma = cal + calc\n",
    "print ('A soma entre {} mais {} vale: {}'.format(cal, calc, soma))"
   ]
  },
  {
   "cell_type": "code",
   "execution_count": null,
   "id": "e9de1253-9c46-41ba-9179-594ee2bd2c8a",
   "metadata": {},
   "outputs": [],
   "source": []
  }
 ],
 "metadata": {
  "kernelspec": {
   "display_name": "Python 3 (ipykernel)",
   "language": "python",
   "name": "python3"
  },
  "language_info": {
   "codemirror_mode": {
    "name": "ipython",
    "version": 3
   },
   "file_extension": ".py",
   "mimetype": "text/x-python",
   "name": "python",
   "nbconvert_exporter": "python",
   "pygments_lexer": "ipython3",
   "version": "3.9.13"
  }
 },
 "nbformat": 4,
 "nbformat_minor": 5
}
