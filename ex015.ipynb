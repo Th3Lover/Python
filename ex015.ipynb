{
 "cells": [
  {
   "cell_type": "code",
   "execution_count": 2,
   "metadata": {},
   "outputs": [
    {
     "name": "stdout",
     "output_type": "stream",
     "text": [
      "O total a pagar é: 232.5\n"
     ]
    }
   ],
   "source": [
    "x = int(input('quantos dias o carro foi alugado:'))\n",
    "z = float(input('Quantos Km rodados com o carro:'))\n",
    "\n",
    "a = (x * 60) + (z * 0.15)\n",
    "\n",
    "\n",
    "print('O total a pagar é: {:.2f}'.format(a))"
   ]
  }
 ],
 "metadata": {
  "kernelspec": {
   "display_name": "base",
   "language": "python",
   "name": "python3"
  },
  "language_info": {
   "codemirror_mode": {
    "name": "ipython",
    "version": 3
   },
   "file_extension": ".py",
   "mimetype": "text/x-python",
   "name": "python",
   "nbconvert_exporter": "python",
   "pygments_lexer": "ipython3",
   "version": "3.9.13"
  },
  "orig_nbformat": 4
 },
 "nbformat": 4,
 "nbformat_minor": 2
}
