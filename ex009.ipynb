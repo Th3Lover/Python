{
 "cells": [
  {
   "cell_type": "code",
   "execution_count": 2,
   "id": "ed6e1228-924e-4162-8480-231e16a9e8a4",
   "metadata": {},
   "outputs": [
    {
     "name": "stdin",
     "output_type": "stream",
     "text": [
      "Digite o Valor a ser colocado na Tabuada 7\n"
     ]
    },
    {
     "name": "stdout",
     "output_type": "stream",
     "text": [
      "7 X 1 = 7\n",
      "7 X 2 = 14\n",
      "7 X 3 = 21\n",
      "7 X 4 = 28\n",
      "7 X 5 = 35\n",
      "7 X 6 = 42\n",
      "7 X 7 = 49\n",
      "7 X 8 = 56\n",
      "7 X 9 = 63\n",
      "7 X 10 = 70\n"
     ]
    }
   ],
   "source": [
    "n = int ( input ('Digite o Valor a ser colocado na Tabuada'))\n",
    "print('{} X {} = {}'.format(n, 1, n*1))\n",
    "print('{} X {} = {}'.format(n, 2, n*2))\n",
    "print('{} X {} = {}'.format(n, 3, n*3))\n",
    "print('{} X {} = {}'.format(n, 4, n*4))\n",
    "print('{} X {} = {}'.format(n, 5, n*5))\n",
    "print('{} X {} = {}'.format(n, 6, n*6))\n",
    "print('{} X {} = {}'.format(n, 7, n*7))\n",
    "print('{} X {} = {}'.format(n, 8, n*8))\n",
    "print('{} X {} = {}'.format(n, 9, n*9))\n",
    "print('{} X {} = {}'.format(n, 10, n*10))\n"
   ]
  },
  {
   "cell_type": "markdown",
   "id": "4e2b7715-b588-4e2b-b882-f6ade15a75b7",
   "metadata": {
    "jp-MarkdownHeadingCollapsed": true,
    "tags": []
   },
   "source": []
  }
 ],
 "metadata": {
  "kernelspec": {
   "display_name": "Python 3 (ipykernel)",
   "language": "python",
   "name": "python3"
  },
  "language_info": {
   "codemirror_mode": {
    "name": "ipython",
    "version": 3
   },
   "file_extension": ".py",
   "mimetype": "text/x-python",
   "name": "python",
   "nbconvert_exporter": "python",
   "pygments_lexer": "ipython3",
   "version": "3.9.13"
  }
 },
 "nbformat": 4,
 "nbformat_minor": 5
}
