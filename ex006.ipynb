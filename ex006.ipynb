{
 "cells": [
  {
   "cell_type": "code",
   "execution_count": 6,
   "id": "fe4435b1-08b9-4428-a02e-49b827f3f3e6",
   "metadata": {},
   "outputs": [
    {
     "name": "stdin",
     "output_type": "stream",
     "text": [
      "Digite um numero 18\n"
     ]
    },
    {
     "name": "stdout",
     "output_type": "stream",
     "text": [
      "O dobro do numero digitado é 36.0, o triplo é 54.0 e a raiz quadrada é 4.24\n"
     ]
    }
   ],
   "source": [
    "n = float ( input ('Digite um numero'))\n",
    "d = n * 2 \n",
    "t = n * 3\n",
    "r = n ** (1/2) \n",
    "print ('O dobro do numero digitado é {}, o triplo é {} e a raiz quadrada é {:.2f}'.format(d, t, r))"
   ]
  },
  {
   "cell_type": "code",
   "execution_count": null,
   "id": "4d149481-8b50-4eae-a08f-6b21052ee505",
   "metadata": {},
   "outputs": [],
   "source": []
  }
 ],
 "metadata": {
  "kernelspec": {
   "display_name": "Python 3 (ipykernel)",
   "language": "python",
   "name": "python3"
  },
  "language_info": {
   "codemirror_mode": {
    "name": "ipython",
    "version": 3
   },
   "file_extension": ".py",
   "mimetype": "text/x-python",
   "name": "python",
   "nbconvert_exporter": "python",
   "pygments_lexer": "ipython3",
   "version": "3.9.13"
  }
 },
 "nbformat": 4,
 "nbformat_minor": 5
}
