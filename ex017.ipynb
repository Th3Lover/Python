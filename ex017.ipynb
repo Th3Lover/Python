{
 "cells": [
  {
   "cell_type": "code",
   "execution_count": 10,
   "metadata": {},
   "outputs": [
    {
     "name": "stdout",
     "output_type": "stream",
     "text": [
      "O valo da hipotenusa é: 3.20\n"
     ]
    }
   ],
   "source": [
    "import math\n",
    "\n",
    "x = float ( input ('Digite o valor do 1° cateto:'))\n",
    "z = float ( input ('Digite o valor do 2° cateto:'))\n",
    "\n",
    "h = math.hypot(x,z)\n",
    " \n",
    "print('O valo da hipotenusa é: {:.2f}'.format(h))"
   ]
  }
 ],
 "metadata": {
  "kernelspec": {
   "display_name": "base",
   "language": "python",
   "name": "python3"
  },
  "language_info": {
   "codemirror_mode": {
    "name": "ipython",
    "version": 3
   },
   "file_extension": ".py",
   "mimetype": "text/x-python",
   "name": "python",
   "nbconvert_exporter": "python",
   "pygments_lexer": "ipython3",
   "version": "3.9.13"
  },
  "orig_nbformat": 4
 },
 "nbformat": 4,
 "nbformat_minor": 2
}
