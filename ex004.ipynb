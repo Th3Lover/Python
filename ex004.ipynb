{
 "cells": [
  {
   "cell_type": "code",
   "execution_count": 1,
   "id": "da5a92a8-985a-4f4d-a445-55214a5ba391",
   "metadata": {},
   "outputs": [
    {
     "name": "stdin",
     "output_type": "stream",
     "text": [
      "Digite algo: ola_boa_noite\n"
     ]
    },
    {
     "name": "stdout",
     "output_type": "stream",
     "text": [
      "<class 'str'>\n",
      "False\n",
      "False\n",
      "False\n"
     ]
    }
   ],
   "source": [
    "n = input('Digite algo:')\n",
    "print(type(n))\n",
    "print(n.isalpha())\n",
    "print(n.isnumeric())\n",
    "print(n.isalnum())"
   ]
  },
  {
   "cell_type": "code",
   "execution_count": null,
   "id": "04732438-fb4a-4f64-a49a-1da2068cc3d3",
   "metadata": {},
   "outputs": [],
   "source": []
  }
 ],
 "metadata": {
  "kernelspec": {
   "display_name": "Python 3 (ipykernel)",
   "language": "python",
   "name": "python3"
  },
  "language_info": {
   "codemirror_mode": {
    "name": "ipython",
    "version": 3
   },
   "file_extension": ".py",
   "mimetype": "text/x-python",
   "name": "python",
   "nbconvert_exporter": "python",
   "pygments_lexer": "ipython3",
   "version": "3.9.13"
  }
 },
 "nbformat": 4,
 "nbformat_minor": 5
}
